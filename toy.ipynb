{
 "cells": [
  {
   "cell_type": "code",
   "execution_count": 2,
   "metadata": {},
   "outputs": [],
   "source": [
    "import sys"
   ]
  },
  {
   "cell_type": "code",
   "execution_count": 3,
   "metadata": {},
   "outputs": [],
   "source": [
    "sys.path.append(\"D:\\project\\AutoML\\tabular_nn\")"
   ]
  },
  {
   "cell_type": "code",
   "execution_count": 22,
   "metadata": {},
   "outputs": [
    {
     "ename": "ModuleNotFoundError",
     "evalue": "No module named 'terminaltables'",
     "output_type": "error",
     "traceback": [
      "\u001b[0;31m---------------------------------------------------------------------------\u001b[0m",
      "\u001b[0;31mModuleNotFoundError\u001b[0m                       Traceback (most recent call last)",
      "\u001b[0;32m<ipython-input-22-602f289f938e>\u001b[0m in \u001b[0;36m<module>\u001b[0;34m\u001b[0m\n\u001b[0;32m----> 1\u001b[0;31m \u001b[0;32mfrom\u001b[0m \u001b[0multraopt\u001b[0m\u001b[0;34m.\u001b[0m\u001b[0mhdl\u001b[0m \u001b[0;32mimport\u001b[0m \u001b[0mhdl2cs\u001b[0m\u001b[0;34m\u001b[0m\u001b[0;34m\u001b[0m\u001b[0m\n\u001b[0m",
      "\u001b[0;32m/data/Project/AutoML/ultraopt/ultraopt/__init__.py\u001b[0m in \u001b[0;36m<module>\u001b[0;34m\u001b[0m\n\u001b[1;32m      4\u001b[0m \u001b[0;31m# @Date    : 2020-12-14\u001b[0m\u001b[0;34m\u001b[0m\u001b[0;34m\u001b[0m\u001b[0;34m\u001b[0m\u001b[0m\n\u001b[1;32m      5\u001b[0m \u001b[0;31m# @Contact    : tqichun@gmail.com\u001b[0m\u001b[0;34m\u001b[0m\u001b[0;34m\u001b[0m\u001b[0;34m\u001b[0m\u001b[0m\n\u001b[0;32m----> 6\u001b[0;31m \u001b[0;32mfrom\u001b[0m \u001b[0multraopt\u001b[0m\u001b[0;34m.\u001b[0m\u001b[0mfacade\u001b[0m\u001b[0;34m.\u001b[0m\u001b[0mfmin\u001b[0m \u001b[0;32mimport\u001b[0m \u001b[0mfmin\u001b[0m\u001b[0;34m\u001b[0m\u001b[0;34m\u001b[0m\u001b[0m\n\u001b[0m\u001b[1;32m      7\u001b[0m \u001b[0;32mfrom\u001b[0m \u001b[0multraopt\u001b[0m\u001b[0;34m.\u001b[0m\u001b[0mfacade\u001b[0m\u001b[0;34m.\u001b[0m\u001b[0mresult\u001b[0m \u001b[0;32mimport\u001b[0m \u001b[0mFMinResult\u001b[0m\u001b[0;34m\u001b[0m\u001b[0;34m\u001b[0m\u001b[0m\n",
      "\u001b[0;32m/data/Project/AutoML/ultraopt/ultraopt/facade/fmin.py\u001b[0m in \u001b[0;36m<module>\u001b[0;34m\u001b[0m\n\u001b[1;32m     14\u001b[0m \u001b[0;32mfrom\u001b[0m \u001b[0mjoblib\u001b[0m \u001b[0;32mimport\u001b[0m \u001b[0mdump\u001b[0m\u001b[0;34m\u001b[0m\u001b[0;34m\u001b[0m\u001b[0m\n\u001b[1;32m     15\u001b[0m \u001b[0;34m\u001b[0m\u001b[0m\n\u001b[0;32m---> 16\u001b[0;31m \u001b[0;32mfrom\u001b[0m \u001b[0multraopt\u001b[0m\u001b[0;34m.\u001b[0m\u001b[0masync_comm\u001b[0m\u001b[0;34m.\u001b[0m\u001b[0mmaster\u001b[0m \u001b[0;32mimport\u001b[0m \u001b[0mMaster\u001b[0m\u001b[0;34m\u001b[0m\u001b[0;34m\u001b[0m\u001b[0m\n\u001b[0m\u001b[1;32m     17\u001b[0m \u001b[0;32mfrom\u001b[0m \u001b[0multraopt\u001b[0m\u001b[0;34m.\u001b[0m\u001b[0masync_comm\u001b[0m\u001b[0;34m.\u001b[0m\u001b[0mnameserver\u001b[0m \u001b[0;32mimport\u001b[0m \u001b[0mNameServer\u001b[0m\u001b[0;34m\u001b[0m\u001b[0;34m\u001b[0m\u001b[0m\n\u001b[1;32m     18\u001b[0m \u001b[0;32mfrom\u001b[0m \u001b[0multraopt\u001b[0m\u001b[0;34m.\u001b[0m\u001b[0masync_comm\u001b[0m\u001b[0;34m.\u001b[0m\u001b[0mworker\u001b[0m \u001b[0;32mimport\u001b[0m \u001b[0mWorker\u001b[0m\u001b[0;34m\u001b[0m\u001b[0;34m\u001b[0m\u001b[0m\n",
      "\u001b[0;32m/data/Project/AutoML/ultraopt/ultraopt/async_comm/master.py\u001b[0m in \u001b[0;36m<module>\u001b[0;34m\u001b[0m\n\u001b[1;32m      9\u001b[0m \u001b[0;32mfrom\u001b[0m \u001b[0mjoblib\u001b[0m \u001b[0;32mimport\u001b[0m \u001b[0mdump\u001b[0m\u001b[0;34m\u001b[0m\u001b[0;34m\u001b[0m\u001b[0m\n\u001b[1;32m     10\u001b[0m \u001b[0;34m\u001b[0m\u001b[0m\n\u001b[0;32m---> 11\u001b[0;31m \u001b[0;32mfrom\u001b[0m \u001b[0multraopt\u001b[0m\u001b[0;34m.\u001b[0m\u001b[0mfacade\u001b[0m\u001b[0;34m.\u001b[0m\u001b[0mresult\u001b[0m \u001b[0;32mimport\u001b[0m \u001b[0mFMinResult\u001b[0m\u001b[0;34m\u001b[0m\u001b[0;34m\u001b[0m\u001b[0m\n\u001b[0m\u001b[1;32m     12\u001b[0m \u001b[0;32mfrom\u001b[0m \u001b[0multraopt\u001b[0m\u001b[0;34m.\u001b[0m\u001b[0mfacade\u001b[0m\u001b[0;34m.\u001b[0m\u001b[0mutils\u001b[0m \u001b[0;32mimport\u001b[0m \u001b[0mget_wanted\u001b[0m\u001b[0;34m\u001b[0m\u001b[0;34m\u001b[0m\u001b[0m\n\u001b[1;32m     13\u001b[0m \u001b[0;32mfrom\u001b[0m \u001b[0multraopt\u001b[0m\u001b[0;34m.\u001b[0m\u001b[0mmulti_fidelity\u001b[0m\u001b[0;34m.\u001b[0m\u001b[0miter\u001b[0m \u001b[0;32mimport\u001b[0m \u001b[0mWarmStartIteration\u001b[0m\u001b[0;34m\u001b[0m\u001b[0;34m\u001b[0m\u001b[0m\n",
      "\u001b[0;32m/data/Project/AutoML/ultraopt/ultraopt/facade/result.py\u001b[0m in \u001b[0;36m<module>\u001b[0;34m\u001b[0m\n\u001b[1;32m      7\u001b[0m \u001b[0;34m\u001b[0m\u001b[0m\n\u001b[1;32m      8\u001b[0m \u001b[0;32mimport\u001b[0m \u001b[0mnumpy\u001b[0m \u001b[0;32mas\u001b[0m \u001b[0mnp\u001b[0m\u001b[0;34m\u001b[0m\u001b[0;34m\u001b[0m\u001b[0m\n\u001b[0;32m----> 9\u001b[0;31m \u001b[0;32mfrom\u001b[0m \u001b[0mterminaltables\u001b[0m \u001b[0;32mimport\u001b[0m \u001b[0mAsciiTable\u001b[0m\u001b[0;34m\u001b[0m\u001b[0;34m\u001b[0m\u001b[0m\n\u001b[0m\u001b[1;32m     10\u001b[0m \u001b[0;34m\u001b[0m\u001b[0m\n\u001b[1;32m     11\u001b[0m \u001b[0;32mfrom\u001b[0m \u001b[0multraopt\u001b[0m\u001b[0;34m.\u001b[0m\u001b[0mfacade\u001b[0m\u001b[0;34m.\u001b[0m\u001b[0mutils\u001b[0m \u001b[0;32mimport\u001b[0m \u001b[0mget_wanted\u001b[0m\u001b[0;34m\u001b[0m\u001b[0;34m\u001b[0m\u001b[0m\n",
      "\u001b[0;31mModuleNotFoundError\u001b[0m: No module named 'terminaltables'"
     ]
    }
   ],
   "source": [
    "from ultraopt.hdl import hdl2cs"
   ]
  },
  {
   "cell_type": "code",
   "execution_count": 23,
   "metadata": {},
   "outputs": [],
   "source": [
    "HDL = {\n",
    "            \"model(choice)\": {\n",
    "                \"linearsvc\": {\n",
    "                    \"max_iter\": {\"_type\": \"int_quniform\", \"_value\": [300, 3000, 100], \"_default\": 600},\n",
    "                    \"penalty\": {\"_type\": \"choice\", \"_value\": [\"l1\", \"l2\"], \"_default\": \"l2\"},\n",
    "                    \"dual\": {\"_type\": \"choice\", \"_value\": [True, False], \"_default\": False},\n",
    "                    \"loss\": {\"_type\": \"choice\", \"_value\": [\"hinge\", \"squared_hinge\"], \"_default\": \"squared_hinge\"},\n",
    "                    \"C\": {\"_type\": \"loguniform\", \"_value\": [0.01, 10000], \"_default\": 1.0},\n",
    "                    \"multi_class\": \"ovr\",\n",
    "                    \"random_state\": 42,\n",
    "                    \"__forbidden\": [\n",
    "                        {\"penalty\": \"l1\", \"loss\": \"hinge\"},\n",
    "                        {\"penalty\": \"l2\", \"dual\": False, \"loss\": \"hinge\"},\n",
    "                        {\"penalty\": \"l1\", \"dual\": False},\n",
    "                        {\"penalty\": \"l1\", \"dual\": True, \"loss\": \"squared_hinge\"},\n",
    "                    ]\n",
    "                },\n",
    "                \"svc\": {\n",
    "                    \"C\": {\"_type\": \"loguniform\", \"_value\": [0.01, 10000], \"_default\": 1.0},\n",
    "                    \"kernel\": {\"_type\": \"choice\", \"_value\": [\"rbf\", \"poly\", \"sigmoid\"], \"_default\": \"rbf\"},\n",
    "                    \"degree\": {\"_type\": \"int_uniform\", \"_value\": [2, 5], \"_default\": 3},\n",
    "                    \"gamma\": {\"_type\": \"loguniform\", \"_value\": [1e-05, 8], \"_default\": 0.1},\n",
    "                    \"coef0\": {\"_type\": \"quniform\", \"_value\": [-1, 1], \"_default\": 0},\n",
    "                    \"shrinking\": {\"_type\": \"choice\", \"_value\": [True, False], \"_default\": True},\n",
    "                    \"class_weight\": None,\n",
    "                    \"probability\": True,\n",
    "                    \"decision_function_shape\": \"ovr\",\n",
    "                    \"__activate\": {\n",
    "                        \"kernel\": {\n",
    "                            \"rbf\": [\"gamma\"],\n",
    "                            \"sigmoid\": [\"gamma\", \"coef0\"],\n",
    "                            \"poly\": [\"degree\", \"gamma\", \"coef0\"]\n",
    "                        }\n",
    "                    },\n",
    "                    \"random_state\": 42\n",
    "                },\n",
    "            }\n",
    "        }"
   ]
  },
  {
   "cell_type": "code",
   "execution_count": 24,
   "metadata": {},
   "outputs": [
    {
     "ename": "NameError",
     "evalue": "name 'hdl2cs' is not defined",
     "output_type": "error",
     "traceback": [
      "\u001b[0;31m---------------------------------------------------------------------------\u001b[0m",
      "\u001b[0;31mNameError\u001b[0m                                 Traceback (most recent call last)",
      "\u001b[0;32m<ipython-input-24-5d32e88074d7>\u001b[0m in \u001b[0;36m<module>\u001b[0;34m\u001b[0m\n\u001b[0;32m----> 1\u001b[0;31m \u001b[0mCS\u001b[0m \u001b[0;34m=\u001b[0m \u001b[0mhdl2cs\u001b[0m\u001b[0;34m(\u001b[0m\u001b[0mHDL\u001b[0m\u001b[0;34m)\u001b[0m\u001b[0;34m\u001b[0m\u001b[0;34m\u001b[0m\u001b[0m\n\u001b[0m",
      "\u001b[0;31mNameError\u001b[0m: name 'hdl2cs' is not defined"
     ]
    }
   ],
   "source": [
    "CS = hdl2cs(HDL)"
   ]
  },
  {
   "cell_type": "code",
   "execution_count": null,
   "metadata": {},
   "outputs": [],
   "source": [
    "CS"
   ]
  },
  {
   "cell_type": "code",
   "execution_count": 25,
   "metadata": {},
   "outputs": [],
   "source": [
    "from hyperopt import hp"
   ]
  },
  {
   "cell_type": "code",
   "execution_count": 26,
   "metadata": {},
   "outputs": [],
   "source": [
    "import hyperopt.pyll.stochastic\n"
   ]
  },
  {
   "cell_type": "code",
   "execution_count": 27,
   "metadata": {},
   "outputs": [],
   "source": [
    "cs={\n",
    "    \"model\":hp.choice(\"model\", [\n",
    "        {\n",
    "            \"linearsvc\":{\n",
    "                \"model:linearsvc:C\": hp.normal(\"model:linearsvc:C\", 1, 10),\n",
    "                \"model:linearsvc:loss\": hp.choice(\"model:linearsvc:C\", [\"hinge\", \"squared_hinge\"]),\n",
    "            }\n",
    "        },\n",
    "        {\n",
    "            \"svc\":{\n",
    "                \"model:svc:C\": hp.normal(\"model:linearsvc:C\", 1, 10),\n",
    "                \"model:svc:loss\": hp.choice(\"model:linearsvc:C\", [\"hinge\", \"squared_hinge\"]),\n",
    "            }\n",
    "        },\n",
    "    ])\n",
    "}"
   ]
  },
  {
   "cell_type": "code",
   "execution_count": 28,
   "metadata": {},
   "outputs": [
    {
     "data": {
      "text/plain": [
       "{'model': {'linearsvc': {'model:linearsvc:C': -16.32183664093065,\n",
       "   'model:linearsvc:loss': 'hinge'}}}"
      ]
     },
     "execution_count": 28,
     "metadata": {},
     "output_type": "execute_result"
    }
   ],
   "source": [
    "hyperopt.pyll.stochastic.sample(cs)"
   ]
  },
  {
   "cell_type": "code",
   "execution_count": null,
   "metadata": {},
   "outputs": [],
   "source": []
  },
  {
   "cell_type": "code",
   "execution_count": null,
   "metadata": {},
   "outputs": [],
   "source": []
  },
  {
   "cell_type": "markdown",
   "metadata": {},
   "source": [
    "注意：**算法选择变量**的值只能是形为`{'algo_name': {'hyperParam': {'_type': 'uniform', ...}}}`的定义，不能直接定义超参，因为超参不是算法，会引起混乱。\n",
    "\n",
    "为了加深您的影响，我们举一个错误的例子："
   ]
  },
  {
   "cell_type": "code",
   "execution_count": 29,
   "metadata": {},
   "outputs": [],
   "source": [
    "false_HDL = {\n",
    "    \"Classifier(choice)\":{\n",
    "        \"SVM\": {\n",
    "            \"C\":  {\"_type\": \"loguniform\", \"_value\": [0.01, 10000], \"_default\": 1.0},\n",
    "        },\n",
    "        \"LDA\": {\n",
    "            \"n_components\":  {\"_type\": \"int_uniform\", \"_value\": [2, 9], \"_default\": 2},\n",
    "        },\n",
    "        \"n_iterations\": {\"_type\": \"int_quniform\", \"_value\": [10, 100, 10], \"_default\": 50}\n",
    "    }  \n",
    "}"
   ]
  },
  {
   "cell_type": "code",
   "execution_count": 30,
   "metadata": {},
   "outputs": [
    {
     "ename": "NameError",
     "evalue": "name 'hdl2cs' is not defined",
     "output_type": "error",
     "traceback": [
      "\u001b[0;31m---------------------------------------------------------------------------\u001b[0m",
      "\u001b[0;31mNameError\u001b[0m                                 Traceback (most recent call last)",
      "\u001b[0;32m<ipython-input-30-b4ca19004779>\u001b[0m in \u001b[0;36m<module>\u001b[0;34m\u001b[0m\n\u001b[0;32m----> 1\u001b[0;31m \u001b[0mCS\u001b[0m \u001b[0;34m=\u001b[0m \u001b[0mhdl2cs\u001b[0m\u001b[0;34m(\u001b[0m\u001b[0mfalse_HDL\u001b[0m\u001b[0;34m)\u001b[0m\u001b[0;34m\u001b[0m\u001b[0;34m\u001b[0m\u001b[0m\n\u001b[0m",
      "\u001b[0;31mNameError\u001b[0m: name 'hdl2cs' is not defined"
     ]
    }
   ],
   "source": [
    "CS = hdl2cs(false_HDL)"
   ]
  },
  {
   "cell_type": "code",
   "execution_count": 31,
   "metadata": {},
   "outputs": [
    {
     "ename": "NameError",
     "evalue": "name 'plot_layered_dict' is not defined",
     "output_type": "error",
     "traceback": [
      "\u001b[0;31m---------------------------------------------------------------------------\u001b[0m",
      "\u001b[0;31mNameError\u001b[0m                                 Traceback (most recent call last)",
      "\u001b[0;32m<ipython-input-31-a510f9c63dfe>\u001b[0m in \u001b[0;36m<module>\u001b[0;34m\u001b[0m\n\u001b[0;32m----> 1\u001b[0;31m \u001b[0mplot_layered_dict\u001b[0m\u001b[0;34m(\u001b[0m\u001b[0mlayering_config\u001b[0m\u001b[0;34m(\u001b[0m\u001b[0mCS\u001b[0m\u001b[0;34m.\u001b[0m\u001b[0msample_configuration\u001b[0m\u001b[0;34m(\u001b[0m\u001b[0;34m)\u001b[0m\u001b[0;34m)\u001b[0m\u001b[0;34m)\u001b[0m\u001b[0;34m\u001b[0m\u001b[0;34m\u001b[0m\u001b[0m\n\u001b[0m",
      "\u001b[0;31mNameError\u001b[0m: name 'plot_layered_dict' is not defined"
     ]
    }
   ],
   "source": [
    "plot_layered_dict(layering_config(CS.sample_configuration()))"
   ]
  },
  {
   "cell_type": "code",
   "execution_count": null,
   "metadata": {},
   "outputs": [],
   "source": []
  },
  {
   "cell_type": "code",
   "execution_count": null,
   "metadata": {},
   "outputs": [],
   "source": []
  },
  {
   "cell_type": "code",
   "execution_count": 9,
   "metadata": {},
   "outputs": [],
   "source": [
    "HDL = {\n",
    "    \"feature_engineer(choice)\":{\n",
    "        \"feature_selection(choice)\":{\n",
    "            \"wrapper(choice)\": {\n",
    "                \"RandomForest\":{\n",
    "                    \"n_iterations\": {\"_type\": \"int_quniform\", \"_value\": [10, 100, 10]},\n",
    "                    \"max_depth\": {\"_type\": \"int_quniform\", \"_value\": [3, 7, 2]},\n",
    "                },\n",
    "                \"LinearRegression\":{\n",
    "                    \"C\": {\"_type\": \"loguniform\", \"_value\": [0.01, 10000], \"_default\": 1.0},\n",
    "                },\n",
    "            },\n",
    "            \"filter\": {\n",
    "                \"score_func\": {\"_type\": \"choice\", \"_value\": [\"pearsonr\", \"spearmanr\"]}\n",
    "            }\n",
    "        },\n",
    "        \"PolynomialFeatures\":{\n",
    "            \"degree\": {\"_type\": \"int_uniform\", \"_value\": [2, 3]},\n",
    "            \"interaction_only\": {\"_type\": \"choice\", \"_value\": [True, False]},\n",
    "        },\n",
    "        \"decomposition(choice)\":{\n",
    "            \"PCA\": {\n",
    "                \"n_components\": {\"_type\": \"uniform\", \"_value\": [0.8, 0.95]},\n",
    "                \"whiten\": {\"_type\": \"choice\", \"_value\": [True, False]},\n",
    "            },\n",
    "            \"KernelPCA\": {\n",
    "                \"n_components\": {\"_type\": \"uniform\", \"_value\": [0.8, 0.95]},\n",
    "                \"whiten\": {\"_type\": \"choice\", \"_value\": [True, False]},\n",
    "            },\n",
    "            \"ICA\":{}\n",
    "        }\n",
    "    }\n",
    "}"
   ]
  },
  {
   "cell_type": "code",
   "execution_count": 10,
   "metadata": {},
   "outputs": [],
   "source": [
    "CS = hdl2cs(HDL)"
   ]
  },
  {
   "cell_type": "code",
   "execution_count": 11,
   "metadata": {},
   "outputs": [],
   "source": [
    "C=CS.get_default_configuration()"
   ]
  },
  {
   "cell_type": "code",
   "execution_count": 12,
   "metadata": {},
   "outputs": [
    {
     "data": {
      "text/plain": [
       "{'feature_engineer:__choice__': 'feature_selection',\n",
       " 'feature_engineer:feature_selection:__choice__': 'wrapper',\n",
       " 'feature_engineer:feature_selection:wrapper:__choice__': 'RandomForest',\n",
       " 'feature_engineer:feature_selection:wrapper:RandomForest:max_depth': 5,\n",
       " 'feature_engineer:feature_selection:wrapper:RandomForest:n_iterations': 55}"
      ]
     },
     "execution_count": 12,
     "metadata": {},
     "output_type": "execute_result"
    }
   ],
   "source": [
    "C.get_dictionary()"
   ]
  },
  {
   "cell_type": "code",
   "execution_count": 13,
   "metadata": {},
   "outputs": [],
   "source": [
    "dict_ = C.get_dictionary()"
   ]
  },
  {
   "cell_type": "code",
   "execution_count": 14,
   "metadata": {},
   "outputs": [
    {
     "data": {
      "text/plain": [
       "{'feature_engineer:__choice__': 'feature_selection',\n",
       " 'feature_engineer:feature_selection:__choice__': 'wrapper',\n",
       " 'feature_engineer:feature_selection:wrapper:__choice__': 'RandomForest',\n",
       " 'feature_engineer:feature_selection:wrapper:RandomForest:max_depth': 5,\n",
       " 'feature_engineer:feature_selection:wrapper:RandomForest:n_iterations': 55}"
      ]
     },
     "execution_count": 14,
     "metadata": {},
     "output_type": "execute_result"
    }
   ],
   "source": [
    "dict_"
   ]
  },
  {
   "cell_type": "code",
   "execution_count": 15,
   "metadata": {},
   "outputs": [],
   "source": [
    "hierarchical_dict = layering_config(dict_)"
   ]
  },
  {
   "cell_type": "code",
   "execution_count": 16,
   "metadata": {},
   "outputs": [
    {
     "data": {
      "text/plain": [
       "{'feature_engineer': {'feature_selection': {'wrapper': {'RandomForest': {'max_depth': 5,\n",
       "     'n_iterations': 55}}}}}"
      ]
     },
     "execution_count": 16,
     "metadata": {},
     "output_type": "execute_result"
    }
   ],
   "source": [
    "hierarchical_dict"
   ]
  },
  {
   "cell_type": "code",
   "execution_count": 17,
   "metadata": {},
   "outputs": [],
   "source": [
    "from ultraopt.hdl.viz import plot_layered_dict"
   ]
  },
  {
   "cell_type": "code",
   "execution_count": 18,
   "metadata": {},
   "outputs": [
    {
     "data": {
      "image/svg+xml": [
       "<?xml version=\"1.0\" encoding=\"UTF-8\" standalone=\"no\"?>\n",
       "<!DOCTYPE svg PUBLIC \"-//W3C//DTD SVG 1.1//EN\"\n",
       " \"http://www.w3.org/Graphics/SVG/1.1/DTD/svg11.dtd\">\n",
       "<!-- Generated by graphviz version 2.38.0 (20140413.2041)\n",
       " -->\n",
       "<!-- Title: Config Space Pages: 1 -->\n",
       "<svg width=\"766pt\" height=\"332pt\"\n",
       " viewBox=\"0.00 0.00 766.39 332.00\" xmlns=\"http://www.w3.org/2000/svg\" xmlns:xlink=\"http://www.w3.org/1999/xlink\">\n",
       "<g id=\"graph0\" class=\"graph\" transform=\"scale(1 1) rotate(0) translate(4 328)\">\n",
       "<title>Config Space</title>\n",
       "<polygon fill=\"white\" stroke=\"none\" points=\"-4,4 -4,-328 762.394,-328 762.394,4 -4,4\"/>\n",
       "<!-- feature_engineer -->\n",
       "<g id=\"node1\" class=\"node\"><title>feature_engineer</title>\n",
       "<polygon fill=\"none\" stroke=\"black\" points=\"523.105,-306 483.053,-324 402.947,-324 362.895,-306 402.947,-288 483.053,-288 523.105,-306\"/>\n",
       "<text text-anchor=\"middle\" x=\"443\" y=\"-302.3\" font-family=\"Times,serif\" font-size=\"14.00\">feature_engineer</text>\n",
       "</g>\n",
       "<!-- feature_selection -->\n",
       "<g id=\"node2\" class=\"node\"><title>feature_selection</title>\n",
       "<polygon fill=\"none\" stroke=\"black\" points=\"362.607,-234 321.804,-252 240.196,-252 199.393,-234 240.196,-216 321.804,-216 362.607,-234\"/>\n",
       "<text text-anchor=\"middle\" x=\"281\" y=\"-230.3\" font-family=\"Times,serif\" font-size=\"14.00\">feature_selection</text>\n",
       "</g>\n",
       "<!-- feature_engineer&#45;&gt;feature_selection -->\n",
       "<g id=\"edge9\" class=\"edge\"><title>feature_engineer&#45;&gt;feature_selection</title>\n",
       "<path fill=\"none\" stroke=\"black\" d=\"M403.37,-287.876C381.224,-278.307 353.437,-266.3 329.942,-256.148\"/>\n",
       "<polygon fill=\"black\" stroke=\"black\" points=\"331.069,-252.822 320.501,-252.068 328.292,-259.248 331.069,-252.822\"/>\n",
       "</g>\n",
       "<!-- PolynomialFeatures -->\n",
       "<g id=\"node11\" class=\"node\"><title>PolynomialFeatures</title>\n",
       "<polygon fill=\"none\" stroke=\"black\" points=\"505.5,-252 380.5,-252 380.5,-216 505.5,-216 505.5,-252\"/>\n",
       "<text text-anchor=\"middle\" x=\"443\" y=\"-230.3\" font-family=\"Times,serif\" font-size=\"14.00\">PolynomialFeatures</text>\n",
       "</g>\n",
       "<!-- feature_engineer&#45;&gt;PolynomialFeatures -->\n",
       "<g id=\"edge12\" class=\"edge\"><title>feature_engineer&#45;&gt;PolynomialFeatures</title>\n",
       "<path fill=\"none\" stroke=\"black\" d=\"M443,-287.697C443,-279.983 443,-270.712 443,-262.112\"/>\n",
       "<polygon fill=\"black\" stroke=\"black\" points=\"446.5,-262.104 443,-252.104 439.5,-262.104 446.5,-262.104\"/>\n",
       "</g>\n",
       "<!-- decomposition -->\n",
       "<g id=\"node14\" class=\"node\"><title>decomposition</title>\n",
       "<polygon fill=\"none\" stroke=\"black\" points=\"668.595,-234 632.298,-252 559.702,-252 523.405,-234 559.702,-216 632.298,-216 668.595,-234\"/>\n",
       "<text text-anchor=\"middle\" x=\"596\" y=\"-230.3\" font-family=\"Times,serif\" font-size=\"14.00\">decomposition</text>\n",
       "</g>\n",
       "<!-- feature_engineer&#45;&gt;decomposition -->\n",
       "<g id=\"edge19\" class=\"edge\"><title>feature_engineer&#45;&gt;decomposition</title>\n",
       "<path fill=\"none\" stroke=\"black\" d=\"M480.428,-287.876C501.406,-278.278 527.742,-266.229 549.974,-256.058\"/>\n",
       "<polygon fill=\"black\" stroke=\"black\" points=\"551.585,-259.169 559.223,-251.826 548.673,-252.804 551.585,-259.169\"/>\n",
       "</g>\n",
       "<!-- wrapper -->\n",
       "<g id=\"node3\" class=\"node\"><title>wrapper</title>\n",
       "<polygon fill=\"none\" stroke=\"black\" points=\"224.561,-162 201.78,-180 156.22,-180 133.439,-162 156.22,-144 201.78,-144 224.561,-162\"/>\n",
       "<text text-anchor=\"middle\" x=\"179\" y=\"-158.3\" font-family=\"Times,serif\" font-size=\"14.00\">wrapper</text>\n",
       "</g>\n",
       "<!-- feature_selection&#45;&gt;wrapper -->\n",
       "<g id=\"edge6\" class=\"edge\"><title>feature_selection&#45;&gt;wrapper</title>\n",
       "<path fill=\"none\" stroke=\"black\" d=\"M256.048,-215.876C242.665,-206.692 226.012,-195.263 211.615,-185.383\"/>\n",
       "<polygon fill=\"black\" stroke=\"black\" points=\"213.218,-182.238 202.992,-179.465 209.257,-188.009 213.218,-182.238\"/>\n",
       "</g>\n",
       "<!-- filter -->\n",
       "<g id=\"node9\" class=\"node\"><title>filter</title>\n",
       "<polygon fill=\"none\" stroke=\"black\" points=\"309,-180 255,-180 255,-144 309,-144 309,-180\"/>\n",
       "<text text-anchor=\"middle\" x=\"282\" y=\"-158.3\" font-family=\"Times,serif\" font-size=\"14.00\">filter</text>\n",
       "</g>\n",
       "<!-- feature_selection&#45;&gt;filter -->\n",
       "<g id=\"edge8\" class=\"edge\"><title>feature_selection&#45;&gt;filter</title>\n",
       "<path fill=\"none\" stroke=\"black\" d=\"M281.247,-215.697C281.357,-207.983 281.49,-198.712 281.613,-190.112\"/>\n",
       "<polygon fill=\"black\" stroke=\"black\" points=\"285.112,-190.153 281.756,-180.104 278.113,-190.053 285.112,-190.153\"/>\n",
       "</g>\n",
       "<!-- RandomForest -->\n",
       "<g id=\"node4\" class=\"node\"><title>RandomForest</title>\n",
       "<polygon fill=\"none\" stroke=\"black\" points=\"227.5,-108 130.5,-108 130.5,-72 227.5,-72 227.5,-108\"/>\n",
       "<text text-anchor=\"middle\" x=\"179\" y=\"-86.3\" font-family=\"Times,serif\" font-size=\"14.00\">RandomForest</text>\n",
       "</g>\n",
       "<!-- wrapper&#45;&gt;RandomForest -->\n",
       "<g id=\"edge3\" class=\"edge\"><title>wrapper&#45;&gt;RandomForest</title>\n",
       "<path fill=\"none\" stroke=\"black\" d=\"M179,-143.697C179,-135.983 179,-126.712 179,-118.112\"/>\n",
       "<polygon fill=\"black\" stroke=\"black\" points=\"182.5,-118.104 179,-108.104 175.5,-118.104 182.5,-118.104\"/>\n",
       "</g>\n",
       "<!-- LinearRegression -->\n",
       "<g id=\"node7\" class=\"node\"><title>LinearRegression</title>\n",
       "<polygon fill=\"none\" stroke=\"black\" points=\"112,-108 0,-108 0,-72 112,-72 112,-108\"/>\n",
       "<text text-anchor=\"middle\" x=\"56\" y=\"-86.3\" font-family=\"Times,serif\" font-size=\"14.00\">LinearRegression</text>\n",
       "</g>\n",
       "<!-- wrapper&#45;&gt;LinearRegression -->\n",
       "<g id=\"edge5\" class=\"edge\"><title>wrapper&#45;&gt;LinearRegression</title>\n",
       "<path fill=\"none\" stroke=\"black\" d=\"M153.215,-146.326C136.309,-136.704 113.893,-123.947 94.8459,-113.107\"/>\n",
       "<polygon fill=\"black\" stroke=\"black\" points=\"96.5078,-110.026 86.0855,-108.122 93.0454,-116.11 96.5078,-110.026\"/>\n",
       "</g>\n",
       "<!-- n_iterations -->\n",
       "<g id=\"node5\" class=\"node\"><title>n_iterations</title>\n",
       "<ellipse fill=\"none\" stroke=\"black\" cx=\"166\" cy=\"-18\" rx=\"51.9908\" ry=\"18\"/>\n",
       "<text text-anchor=\"middle\" x=\"166\" y=\"-14.3\" font-family=\"Times,serif\" font-size=\"14.00\">n_iterations</text>\n",
       "</g>\n",
       "<!-- RandomForest&#45;&gt;n_iterations -->\n",
       "<g id=\"edge1\" class=\"edge\"><title>RandomForest&#45;&gt;n_iterations</title>\n",
       "<path fill=\"none\" stroke=\"black\" d=\"M175.787,-71.6966C174.354,-63.9827 172.632,-54.7125 171.035,-46.1124\"/>\n",
       "<polygon fill=\"black\" stroke=\"black\" points=\"174.444,-45.2971 169.177,-36.1043 167.561,-46.5753 174.444,-45.2971\"/>\n",
       "</g>\n",
       "<!-- max_depth -->\n",
       "<g id=\"node6\" class=\"node\"><title>max_depth</title>\n",
       "<ellipse fill=\"none\" stroke=\"black\" cx=\"286\" cy=\"-18\" rx=\"50.0912\" ry=\"18\"/>\n",
       "<text text-anchor=\"middle\" x=\"286\" y=\"-14.3\" font-family=\"Times,serif\" font-size=\"14.00\">max_depth</text>\n",
       "</g>\n",
       "<!-- RandomForest&#45;&gt;max_depth -->\n",
       "<g id=\"edge2\" class=\"edge\"><title>RandomForest&#45;&gt;max_depth</title>\n",
       "<path fill=\"none\" stroke=\"black\" d=\"M205.175,-71.8761C220.105,-62.1089 238.916,-49.8028 254.633,-39.5207\"/>\n",
       "<polygon fill=\"black\" stroke=\"black\" points=\"256.549,-42.4492 263.002,-34.0456 252.717,-36.5914 256.549,-42.4492\"/>\n",
       "</g>\n",
       "<!-- C -->\n",
       "<g id=\"node8\" class=\"node\"><title>C</title>\n",
       "<ellipse fill=\"none\" stroke=\"black\" cx=\"56\" cy=\"-18\" rx=\"27\" ry=\"18\"/>\n",
       "<text text-anchor=\"middle\" x=\"56\" y=\"-14.3\" font-family=\"Times,serif\" font-size=\"14.00\">C</text>\n",
       "</g>\n",
       "<!-- LinearRegression&#45;&gt;C -->\n",
       "<g id=\"edge4\" class=\"edge\"><title>LinearRegression&#45;&gt;C</title>\n",
       "<path fill=\"none\" stroke=\"black\" d=\"M56,-71.6966C56,-63.9827 56,-54.7125 56,-46.1124\"/>\n",
       "<polygon fill=\"black\" stroke=\"black\" points=\"59.5001,-46.1043 56,-36.1043 52.5001,-46.1044 59.5001,-46.1043\"/>\n",
       "</g>\n",
       "<!-- score_func -->\n",
       "<g id=\"node10\" class=\"node\"><title>score_func</title>\n",
       "<ellipse fill=\"none\" stroke=\"black\" cx=\"295\" cy=\"-90\" rx=\"49.2915\" ry=\"18\"/>\n",
       "<text text-anchor=\"middle\" x=\"295\" y=\"-86.3\" font-family=\"Times,serif\" font-size=\"14.00\">score_func</text>\n",
       "</g>\n",
       "<!-- filter&#45;&gt;score_func -->\n",
       "<g id=\"edge7\" class=\"edge\"><title>filter&#45;&gt;score_func</title>\n",
       "<path fill=\"none\" stroke=\"black\" d=\"M285.213,-143.697C286.646,-135.983 288.368,-126.712 289.965,-118.112\"/>\n",
       "<polygon fill=\"black\" stroke=\"black\" points=\"293.439,-118.575 291.823,-108.104 286.556,-117.297 293.439,-118.575\"/>\n",
       "</g>\n",
       "<!-- degree -->\n",
       "<g id=\"node12\" class=\"node\"><title>degree</title>\n",
       "<ellipse fill=\"none\" stroke=\"black\" cx=\"362\" cy=\"-162\" rx=\"34.394\" ry=\"18\"/>\n",
       "<text text-anchor=\"middle\" x=\"362\" y=\"-158.3\" font-family=\"Times,serif\" font-size=\"14.00\">degree</text>\n",
       "</g>\n",
       "<!-- PolynomialFeatures&#45;&gt;degree -->\n",
       "<g id=\"edge10\" class=\"edge\"><title>PolynomialFeatures&#45;&gt;degree</title>\n",
       "<path fill=\"none\" stroke=\"black\" d=\"M422.978,-215.697C412.015,-206.223 398.336,-194.402 386.714,-184.357\"/>\n",
       "<polygon fill=\"black\" stroke=\"black\" points=\"388.909,-181.629 379.054,-177.738 384.332,-186.925 388.909,-181.629\"/>\n",
       "</g>\n",
       "<!-- interaction_only -->\n",
       "<g id=\"node13\" class=\"node\"><title>interaction_only</title>\n",
       "<ellipse fill=\"none\" stroke=\"black\" cx=\"483\" cy=\"-162\" rx=\"68.4888\" ry=\"18\"/>\n",
       "<text text-anchor=\"middle\" x=\"483\" y=\"-158.3\" font-family=\"Times,serif\" font-size=\"14.00\">interaction_only</text>\n",
       "</g>\n",
       "<!-- PolynomialFeatures&#45;&gt;interaction_only -->\n",
       "<g id=\"edge11\" class=\"edge\"><title>PolynomialFeatures&#45;&gt;interaction_only</title>\n",
       "<path fill=\"none\" stroke=\"black\" d=\"M452.888,-215.697C457.489,-207.644 463.06,-197.894 468.153,-188.982\"/>\n",
       "<polygon fill=\"black\" stroke=\"black\" points=\"471.304,-190.523 473.226,-180.104 465.226,-187.05 471.304,-190.523\"/>\n",
       "</g>\n",
       "<!-- PCA -->\n",
       "<g id=\"node15\" class=\"node\"><title>PCA</title>\n",
       "<polygon fill=\"none\" stroke=\"black\" points=\"623,-180 569,-180 569,-144 623,-144 623,-180\"/>\n",
       "<text text-anchor=\"middle\" x=\"596\" y=\"-158.3\" font-family=\"Times,serif\" font-size=\"14.00\">PCA</text>\n",
       "</g>\n",
       "<!-- decomposition&#45;&gt;PCA -->\n",
       "<g id=\"edge15\" class=\"edge\"><title>decomposition&#45;&gt;PCA</title>\n",
       "<path fill=\"none\" stroke=\"black\" d=\"M596,-215.697C596,-207.983 596,-198.712 596,-190.112\"/>\n",
       "<polygon fill=\"black\" stroke=\"black\" points=\"599.5,-190.104 596,-180.104 592.5,-190.104 599.5,-190.104\"/>\n",
       "</g>\n",
       "<!-- KernelPCA -->\n",
       "<g id=\"node18\" class=\"node\"><title>KernelPCA</title>\n",
       "<polygon fill=\"none\" stroke=\"black\" points=\"721,-180 641,-180 641,-144 721,-144 721,-180\"/>\n",
       "<text text-anchor=\"middle\" x=\"681\" y=\"-158.3\" font-family=\"Times,serif\" font-size=\"14.00\">KernelPCA</text>\n",
       "</g>\n",
       "<!-- decomposition&#45;&gt;KernelPCA -->\n",
       "<g id=\"edge18\" class=\"edge\"><title>decomposition&#45;&gt;KernelPCA</title>\n",
       "<path fill=\"none\" stroke=\"black\" d=\"M617.011,-215.697C627.716,-206.881 640.89,-196.032 652.496,-186.474\"/>\n",
       "<polygon fill=\"black\" stroke=\"black\" points=\"654.736,-189.163 660.23,-180.104 650.286,-183.76 654.736,-189.163\"/>\n",
       "</g>\n",
       "<!-- n_components -->\n",
       "<g id=\"node16\" class=\"node\"><title>n_components</title>\n",
       "<ellipse fill=\"none\" stroke=\"black\" cx=\"696\" cy=\"-90\" rx=\"62.2891\" ry=\"18\"/>\n",
       "<text text-anchor=\"middle\" x=\"696\" y=\"-86.3\" font-family=\"Times,serif\" font-size=\"14.00\">n_components</text>\n",
       "</g>\n",
       "<!-- PCA&#45;&gt;n_components -->\n",
       "<g id=\"edge13\" class=\"edge\"><title>PCA&#45;&gt;n_components</title>\n",
       "<path fill=\"none\" stroke=\"black\" d=\"M620.463,-143.876C633.774,-134.558 650.387,-122.929 664.641,-112.951\"/>\n",
       "<polygon fill=\"black\" stroke=\"black\" points=\"666.976,-115.589 673.161,-106.987 662.961,-109.855 666.976,-115.589\"/>\n",
       "</g>\n",
       "<!-- whiten -->\n",
       "<g id=\"node17\" class=\"node\"><title>whiten</title>\n",
       "<ellipse fill=\"none\" stroke=\"black\" cx=\"581\" cy=\"-90\" rx=\"34.394\" ry=\"18\"/>\n",
       "<text text-anchor=\"middle\" x=\"581\" y=\"-86.3\" font-family=\"Times,serif\" font-size=\"14.00\">whiten</text>\n",
       "</g>\n",
       "<!-- PCA&#45;&gt;whiten -->\n",
       "<g id=\"edge14\" class=\"edge\"><title>PCA&#45;&gt;whiten</title>\n",
       "<path fill=\"none\" stroke=\"black\" d=\"M592.292,-143.697C590.639,-135.983 588.653,-126.712 586.81,-118.112\"/>\n",
       "<polygon fill=\"black\" stroke=\"black\" points=\"590.183,-117.149 584.665,-108.104 583.338,-118.616 590.183,-117.149\"/>\n",
       "</g>\n",
       "<!-- KernelPCA&#45;&gt;n_components -->\n",
       "<g id=\"edge16\" class=\"edge\"><title>KernelPCA&#45;&gt;n_components</title>\n",
       "<path fill=\"none\" stroke=\"black\" d=\"M684.708,-143.697C686.361,-135.983 688.347,-126.712 690.19,-118.112\"/>\n",
       "<polygon fill=\"black\" stroke=\"black\" points=\"693.662,-118.616 692.335,-108.104 686.817,-117.149 693.662,-118.616\"/>\n",
       "</g>\n",
       "<!-- KernelPCA&#45;&gt;whiten -->\n",
       "<g id=\"edge17\" class=\"edge\"><title>KernelPCA&#45;&gt;whiten</title>\n",
       "<path fill=\"none\" stroke=\"black\" d=\"M656.537,-143.876C642.23,-133.861 624.109,-121.176 609.202,-110.742\"/>\n",
       "<polygon fill=\"black\" stroke=\"black\" points=\"611.05,-107.762 600.85,-104.895 607.035,-113.497 611.05,-107.762\"/>\n",
       "</g>\n",
       "</g>\n",
       "</svg>\n"
      ],
      "text/plain": [
       "<graphviz.dot.Digraph at 0x7f75ef01fac8>"
      ]
     },
     "execution_count": 18,
     "metadata": {},
     "output_type": "execute_result"
    }
   ],
   "source": [
    "plot_hdl(HDL)"
   ]
  },
  {
   "cell_type": "code",
   "execution_count": 19,
   "metadata": {},
   "outputs": [
    {
     "data": {
      "text/plain": [
       "{'feature_engineer:__choice__': 'decomposition',\n",
       " 'feature_engineer:decomposition:__choice__': 'KernelPCA',\n",
       " 'feature_engineer:decomposition:KernelPCA:n_components': 0.8246914609645398,\n",
       " 'feature_engineer:decomposition:KernelPCA:whiten': 'False:bool'}"
      ]
     },
     "execution_count": 19,
     "metadata": {},
     "output_type": "execute_result"
    }
   ],
   "source": [
    "CS.sample_configuration().get_dictionary()"
   ]
  },
  {
   "cell_type": "code",
   "execution_count": 20,
   "metadata": {},
   "outputs": [
    {
     "data": {
      "image/svg+xml": [
       "<?xml version=\"1.0\" encoding=\"UTF-8\" standalone=\"no\"?>\n",
       "<!DOCTYPE svg PUBLIC \"-//W3C//DTD SVG 1.1//EN\"\n",
       " \"http://www.w3.org/Graphics/SVG/1.1/DTD/svg11.dtd\">\n",
       "<!-- Generated by graphviz version 2.38.0 (20140413.2041)\n",
       " -->\n",
       "<!-- Title: Layered Dict Pages: 1 -->\n",
       "<svg width=\"230pt\" height=\"332pt\"\n",
       " viewBox=\"0.00 0.00 230.04 332.00\" xmlns=\"http://www.w3.org/2000/svg\" xmlns:xlink=\"http://www.w3.org/1999/xlink\">\n",
       "<g id=\"graph0\" class=\"graph\" transform=\"scale(1 1) rotate(0) translate(4 328)\">\n",
       "<title>Layered Dict</title>\n",
       "<polygon fill=\"white\" stroke=\"none\" points=\"-4,4 -4,-328 226.041,-328 226.041,4 -4,4\"/>\n",
       "<!-- feature_engineer -->\n",
       "<g id=\"node1\" class=\"node\"><title>feature_engineer</title>\n",
       "<polygon fill=\"none\" stroke=\"black\" points=\"163.546,-324 56.5456,-324 56.5456,-288 163.546,-288 163.546,-324\"/>\n",
       "<text text-anchor=\"middle\" x=\"110.046\" y=\"-302.3\" font-family=\"Times,serif\" font-size=\"14.00\">feature_engineer</text>\n",
       "</g>\n",
       "<!-- feature_selection -->\n",
       "<g id=\"node2\" class=\"node\"><title>feature_selection</title>\n",
       "<polygon fill=\"none\" stroke=\"black\" points=\"164.546,-252 55.5456,-252 55.5456,-216 164.546,-216 164.546,-252\"/>\n",
       "<text text-anchor=\"middle\" x=\"110.046\" y=\"-230.3\" font-family=\"Times,serif\" font-size=\"14.00\">feature_selection</text>\n",
       "</g>\n",
       "<!-- feature_engineer&#45;&gt;feature_selection -->\n",
       "<g id=\"edge5\" class=\"edge\"><title>feature_engineer&#45;&gt;feature_selection</title>\n",
       "<path fill=\"none\" stroke=\"black\" d=\"M110.046,-287.697C110.046,-279.983 110.046,-270.712 110.046,-262.112\"/>\n",
       "<polygon fill=\"black\" stroke=\"black\" points=\"113.546,-262.104 110.046,-252.104 106.546,-262.104 113.546,-262.104\"/>\n",
       "</g>\n",
       "<!-- wrapper -->\n",
       "<g id=\"node3\" class=\"node\"><title>wrapper</title>\n",
       "<polygon fill=\"none\" stroke=\"black\" points=\"140.546,-180 79.5456,-180 79.5456,-144 140.546,-144 140.546,-180\"/>\n",
       "<text text-anchor=\"middle\" x=\"110.046\" y=\"-158.3\" font-family=\"Times,serif\" font-size=\"14.00\">wrapper</text>\n",
       "</g>\n",
       "<!-- feature_selection&#45;&gt;wrapper -->\n",
       "<g id=\"edge4\" class=\"edge\"><title>feature_selection&#45;&gt;wrapper</title>\n",
       "<path fill=\"none\" stroke=\"black\" d=\"M110.046,-215.697C110.046,-207.983 110.046,-198.712 110.046,-190.112\"/>\n",
       "<polygon fill=\"black\" stroke=\"black\" points=\"113.546,-190.104 110.046,-180.104 106.546,-190.104 113.546,-190.104\"/>\n",
       "</g>\n",
       "<!-- RandomForest -->\n",
       "<g id=\"node4\" class=\"node\"><title>RandomForest</title>\n",
       "<polygon fill=\"none\" stroke=\"black\" points=\"158.546,-108 61.5456,-108 61.5456,-72 158.546,-72 158.546,-108\"/>\n",
       "<text text-anchor=\"middle\" x=\"110.046\" y=\"-86.3\" font-family=\"Times,serif\" font-size=\"14.00\">RandomForest</text>\n",
       "</g>\n",
       "<!-- wrapper&#45;&gt;RandomForest -->\n",
       "<g id=\"edge3\" class=\"edge\"><title>wrapper&#45;&gt;RandomForest</title>\n",
       "<path fill=\"none\" stroke=\"black\" d=\"M110.046,-143.697C110.046,-135.983 110.046,-126.712 110.046,-118.112\"/>\n",
       "<polygon fill=\"black\" stroke=\"black\" points=\"113.546,-118.104 110.046,-108.104 106.546,-118.104 113.546,-118.104\"/>\n",
       "</g>\n",
       "<!-- max_depth -->\n",
       "<g id=\"node5\" class=\"node\"><title>max_depth</title>\n",
       "<ellipse fill=\"none\" stroke=\"black\" cx=\"50.0456\" cy=\"-18\" rx=\"50.0912\" ry=\"18\"/>\n",
       "<text text-anchor=\"middle\" x=\"50.0456\" y=\"-14.3\" font-family=\"Times,serif\" font-size=\"14.00\">max_depth</text>\n",
       "</g>\n",
       "<!-- RandomForest&#45;&gt;max_depth -->\n",
       "<g id=\"edge1\" class=\"edge\"><title>RandomForest&#45;&gt;max_depth</title>\n",
       "<path fill=\"none\" stroke=\"black\" d=\"M95.2141,-71.6966C87.9135,-63.1793 78.9866,-52.7646 71.0024,-43.4497\"/>\n",
       "<polygon fill=\"black\" stroke=\"black\" points=\"73.4586,-40.9371 64.2932,-35.6223 68.1438,-45.4927 73.4586,-40.9371\"/>\n",
       "</g>\n",
       "<!-- n_iterations -->\n",
       "<g id=\"node6\" class=\"node\"><title>n_iterations</title>\n",
       "<ellipse fill=\"none\" stroke=\"black\" cx=\"170.046\" cy=\"-18\" rx=\"51.9908\" ry=\"18\"/>\n",
       "<text text-anchor=\"middle\" x=\"170.046\" y=\"-14.3\" font-family=\"Times,serif\" font-size=\"14.00\">n_iterations</text>\n",
       "</g>\n",
       "<!-- RandomForest&#45;&gt;n_iterations -->\n",
       "<g id=\"edge2\" class=\"edge\"><title>RandomForest&#45;&gt;n_iterations</title>\n",
       "<path fill=\"none\" stroke=\"black\" d=\"M124.877,-71.6966C132.178,-63.1793 141.104,-52.7646 149.089,-43.4497\"/>\n",
       "<polygon fill=\"black\" stroke=\"black\" points=\"151.947,-45.4927 155.798,-35.6223 146.633,-40.9371 151.947,-45.4927\"/>\n",
       "</g>\n",
       "</g>\n",
       "</svg>\n"
      ],
      "text/plain": [
       "<graphviz.dot.Digraph at 0x7f7688e02710>"
      ]
     },
     "execution_count": 20,
     "metadata": {},
     "output_type": "execute_result"
    }
   ],
   "source": [
    "plot_layered_dict(hierarchical_dict)"
   ]
  },
  {
   "cell_type": "code",
   "execution_count": null,
   "metadata": {},
   "outputs": [],
   "source": []
  },
  {
   "cell_type": "code",
   "execution_count": 20,
   "metadata": {},
   "outputs": [
    {
     "data": {
      "image/svg+xml": [
       "<?xml version=\"1.0\" encoding=\"UTF-8\" standalone=\"no\"?>\n",
       "<!DOCTYPE svg PUBLIC \"-//W3C//DTD SVG 1.1//EN\"\n",
       " \"http://www.w3.org/Graphics/SVG/1.1/DTD/svg11.dtd\">\n",
       "<!-- Generated by graphviz version 2.38.0 (20140413.2041)\n",
       " -->\n",
       "<!-- Title: %3 Pages: 1 -->\n",
       "<svg width=\"668pt\" height=\"79pt\"\n",
       " viewBox=\"0.00 0.00 668.18 78.70\" xmlns=\"http://www.w3.org/2000/svg\" xmlns:xlink=\"http://www.w3.org/1999/xlink\">\n",
       "<g id=\"graph0\" class=\"graph\" transform=\"scale(1 1) rotate(0) translate(4 74.6978)\">\n",
       "<title>%3</title>\n",
       "<polygon fill=\"white\" stroke=\"none\" points=\"-4,4 -4,-74.6978 664.18,-74.6978 664.18,4 -4,4\"/>\n",
       "<!-- config space -->\n",
       "<g id=\"node1\" class=\"node\"><title>config space</title>\n",
       "<ellipse fill=\"none\" stroke=\"black\" cx=\"55.2451\" cy=\"-38.6978\" rx=\"55.4913\" ry=\"18\"/>\n",
       "<text text-anchor=\"middle\" x=\"55.2451\" y=\"-34.9978\" font-family=\"Times,serif\" font-size=\"14.00\">config space</text>\n",
       "</g>\n",
       "<!-- optimizer -->\n",
       "<g id=\"node2\" class=\"node\"><title>optimizer</title>\n",
       "<polygon fill=\"none\" stroke=\"black\" points=\"263.49,-56.6978 194.49,-56.6978 194.49,-20.6978 263.49,-20.6978 263.49,-56.6978\"/>\n",
       "<text text-anchor=\"middle\" x=\"228.99\" y=\"-34.9978\" font-family=\"Times,serif\" font-size=\"14.00\">optimizer</text>\n",
       "</g>\n",
       "<!-- config space&#45;&gt;optimizer -->\n",
       "<g id=\"edge1\" class=\"edge\"><title>config space&#45;&gt;optimizer</title>\n",
       "<path fill=\"none\" stroke=\"black\" d=\"M110.586,-38.6978C134.341,-38.6978 161.834,-38.6978 184.24,-38.6978\"/>\n",
       "<polygon fill=\"black\" stroke=\"black\" points=\"184.468,-42.1979 194.468,-38.6978 184.468,-35.1979 184.468,-42.1979\"/>\n",
       "<text text-anchor=\"middle\" x=\"152.49\" y=\"-42.4978\" font-family=\"Times,serif\" font-size=\"14.00\">initialize</text>\n",
       "</g>\n",
       "<!-- config -->\n",
       "<g id=\"node3\" class=\"node\"><title>config</title>\n",
       "<ellipse fill=\"none\" stroke=\"black\" cx=\"352.637\" cy=\"-51.6978\" rx=\"33.2948\" ry=\"18\"/>\n",
       "<text text-anchor=\"middle\" x=\"352.637\" y=\"-47.9978\" font-family=\"Times,serif\" font-size=\"14.00\">config</text>\n",
       "</g>\n",
       "<!-- optimizer&#45;&gt;config -->\n",
       "<g id=\"edge2\" class=\"edge\"><title>optimizer&#45;&gt;config</title>\n",
       "<path fill=\"none\" stroke=\"black\" d=\"M263.725,-50.7587C269.578,-52.3944 275.659,-53.8128 281.49,-54.6978 290.597,-56.0798 300.439,-56.3846 309.789,-56.1277\"/>\n",
       "<polygon fill=\"black\" stroke=\"black\" points=\"310.253,-59.6093 320.071,-55.6264 309.912,-52.6176 310.253,-59.6093\"/>\n",
       "<text text-anchor=\"start\" x=\"281.49\" y=\"-60.4978\" font-family=\"Times,serif\" font-weight=\"bold\" font-size=\"14.00\">ask</text>\n",
       "</g>\n",
       "<!-- config&#45;&gt;optimizer -->\n",
       "<g id=\"edge5\" class=\"edge\"><title>config&#45;&gt;optimizer</title>\n",
       "<path fill=\"none\" stroke=\"black\" d=\"M325.2,-41.5843C317.654,-39.1603 309.346,-36.9207 301.49,-35.6978 292.571,-34.3094 282.955,-33.9507 273.756,-34.1491\"/>\n",
       "<polygon fill=\"black\" stroke=\"black\" points=\"273.448,-30.659 263.608,-34.5846 273.749,-37.6525 273.448,-30.659\"/>\n",
       "<text text-anchor=\"start\" x=\"281.99\" y=\"-40.4978\" font-family=\"Times,serif\" font-weight=\"bold\" font-size=\"14.00\">tell</text>\n",
       "</g>\n",
       "<!-- evaluator -->\n",
       "<g id=\"node5\" class=\"node\"><title>evaluator</title>\n",
       "<polygon fill=\"none\" stroke=\"black\" points=\"528.784,-69.6978 461.784,-69.6978 461.784,-33.6978 528.784,-33.6978 528.784,-69.6978\"/>\n",
       "<text text-anchor=\"middle\" x=\"495.284\" y=\"-47.9978\" font-family=\"Times,serif\" font-size=\"14.00\">evaluator</text>\n",
       "</g>\n",
       "<!-- config&#45;&gt;evaluator -->\n",
       "<g id=\"edge3\" class=\"edge\"><title>config&#45;&gt;evaluator</title>\n",
       "<path fill=\"none\" stroke=\"black\" d=\"M385.905,-51.6978C405.42,-51.6978 430.53,-51.6978 451.666,-51.6978\"/>\n",
       "<polygon fill=\"black\" stroke=\"black\" points=\"451.68,-55.1979 461.68,-51.6978 451.68,-48.1979 451.68,-55.1979\"/>\n",
       "<text text-anchor=\"middle\" x=\"423.784\" y=\"-55.4978\" font-family=\"Times,serif\" font-size=\"14.00\">send to</text>\n",
       "</g>\n",
       "<!-- loss -->\n",
       "<g id=\"node4\" class=\"node\"><title>loss</title>\n",
       "<ellipse fill=\"none\" stroke=\"black\" cx=\"635.482\" cy=\"-24.6978\" rx=\"24.8972\" ry=\"24.8972\"/>\n",
       "<text text-anchor=\"middle\" x=\"635.482\" y=\"-20.9978\" font-family=\"Times,serif\" font-size=\"14.00\">loss</text>\n",
       "</g>\n",
       "<!-- loss&#45;&gt;optimizer -->\n",
       "<g id=\"edge6\" class=\"edge\"><title>loss&#45;&gt;optimizer</title>\n",
       "<path fill=\"none\" stroke=\"black\" d=\"M610.739,-23.6398C558.186,-21.53 428.083,-17.5842 319.49,-24.6978 304.589,-25.674 288.429,-27.852 273.993,-30.2061\"/>\n",
       "<polygon fill=\"black\" stroke=\"black\" points=\"273.101,-26.8077 263.83,-31.9367 274.276,-33.7084 273.101,-26.8077\"/>\n",
       "<text text-anchor=\"start\" x=\"414.284\" y=\"-25.4978\" font-family=\"Times,serif\" font-weight=\"bold\" font-size=\"14.00\">tell</text>\n",
       "</g>\n",
       "<!-- evaluator&#45;&gt;loss -->\n",
       "<g id=\"edge4\" class=\"edge\"><title>evaluator&#45;&gt;loss</title>\n",
       "<path fill=\"none\" stroke=\"black\" d=\"M529.035,-45.2992C550.809,-41.0451 579.315,-35.4759 601.198,-31.2006\"/>\n",
       "<polygon fill=\"black\" stroke=\"black\" points=\"601.9,-34.6296 611.044,-29.277 600.558,-27.7595 601.9,-34.6296\"/>\n",
       "<text text-anchor=\"middle\" x=\"569.784\" y=\"-44.4978\" font-family=\"Times,serif\" font-size=\"14.00\">evaluate</text>\n",
       "</g>\n",
       "</g>\n",
       "</svg>\n"
      ],
      "text/plain": [
       "<graphviz.dot.Digraph at 0x7fb806e91048>"
      ]
     },
     "execution_count": 20,
     "metadata": {},
     "output_type": "execute_result"
    }
   ],
   "source": [
    "from graphviz import Digraph; g = Digraph()\n",
    "g.node(\"config space\", shape=\"ellipse\"); g.node(\"optimizer\", shape=\"box\")\n",
    "g.node(\"config\", shape=\"ellipse\"); g.node(\"loss\", shape=\"circle\"); g.node(\"evaluator\", shape=\"box\")\n",
    "g.edge(\"config space\", \"optimizer\", label=\"initialize\"); g.edge(\"optimizer\", \"config\", label=\"<<b>ask</b>>\")\n",
    "g.edge(\"config\",\"evaluator\" , label=\"send to\"); g.edge(\"evaluator\",\"loss\" , label=\"evaluate\")\n",
    "g.edge(\"config\", \"optimizer\", label=\"<<b>tell</b>>\"); g.edge(\"loss\", \"optimizer\", label=\"<<b>tell</b>>\")\n",
    "g.graph_attr['rankdir'] = 'LR'; g"
   ]
  },
  {
   "cell_type": "code",
   "execution_count": null,
   "metadata": {},
   "outputs": [],
   "source": []
  }
 ],
 "metadata": {
  "kernelspec": {
   "display_name": "Python 3",
   "language": "python",
   "name": "python3"
  },
  "language_info": {
   "codemirror_mode": {
    "name": "ipython",
    "version": 3
   },
   "file_extension": ".py",
   "mimetype": "text/x-python",
   "name": "python",
   "nbconvert_exporter": "python",
   "pygments_lexer": "ipython3",
   "version": "3.6.9"
  }
 },
 "nbformat": 4,
 "nbformat_minor": 4
}
